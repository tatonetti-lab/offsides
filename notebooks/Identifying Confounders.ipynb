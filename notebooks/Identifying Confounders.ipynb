{
 "cells": [
  {
   "cell_type": "code",
   "execution_count": 11,
   "metadata": {},
   "outputs": [],
   "source": [
    "import os\n",
    "import sys\n",
    "import csv\n",
    "import json\n",
    "\n",
    "import numpy as np\n",
    "import scipy as sp\n",
    "import pandas as pd\n",
    "\n",
    "from tqdm.notebook import tqdm"
   ]
  },
  {
   "cell_type": "code",
   "execution_count": 13,
   "metadata": {},
   "outputs": [
    {
     "name": "stdout",
     "output_type": "stream",
     "text": [
      "True\n"
     ]
    },
    {
     "data": {
      "text/plain": [
       "219850"
      ]
     },
     "execution_count": 13,
     "metadata": {},
     "output_type": "execute_result"
    }
   ],
   "source": [
    "data_path = '../data'\n",
    "dataset_path = '../data/faers/drug/datasets/drug_2005-2005'\n",
    "print(os.path.exists(dataset_path))\n",
    "\n",
    "dataset_info = json.load(open(os.path.join(dataset_path, 'dataset.json')))\n",
    "num_reports = dataset_info['reports_by_drugs']['shape'][0]\n",
    "num_reports"
   ]
  },
  {
   "cell_type": "markdown",
   "metadata": {},
   "source": [
    "|               | Reaction | No Reaction |\n",
    "|---------------|----------|-------------|\n",
    "| Indication    | A        | B           |\n",
    "| No Indication | C        | D           |\n",
    "\n",
    "PRR = (A/B) / (C/D)\n"
   ]
  },
  {
   "cell_type": "code",
   "execution_count": 34,
   "metadata": {},
   "outputs": [
    {
     "name": "stdout",
     "output_type": "stream",
     "text": [
      "Num indications: 4196\n",
      "Num Reactions: 9242\n"
     ]
    },
    {
     "data": {
      "application/vnd.jupyter.widget-view+json": {
       "model_id": "857d1ebec1c44f21948091bdd4df4fe4",
       "version_major": 2,
       "version_minor": 0
      },
      "text/plain": [
       "  0%|          | 0/4196 [00:00<?, ?it/s]"
      ]
     },
     "metadata": {},
     "output_type": "display_data"
    }
   ],
   "source": [
    "# indications\n",
    "indication2report = json.load(open(os.path.join(dataset_path, 'indication2report.json')))\n",
    "print(f\"Num indications: {len(indication2report)}\")\n",
    "\n",
    "reaction2report = json.load(open(os.path.join(dataset_path, 'reaction2report.json')))\n",
    "print(f\"Num Reactions: {len(reaction2report)}\")\n",
    "\n",
    "indication_prrs_data = list()\n",
    "for indication, ind_reports in tqdm(indication2report.items()):\n",
    "    for reaction, rxn_reports in reaction2report.items():\n",
    "        A = float(len(set(ind_reports) & set(rxn_reports)))\n",
    "        B = float(len(ind_reports)-A)\n",
    "        C = float(len(rxn_reports)-A)\n",
    "        D = float(num_reports-(A+B+C))\n",
    "        if B == 0:\n",
    "            B = 1\n",
    "        if C == 0:\n",
    "            C = 1\n",
    "        PRR = (A/B)/(C/D)\n",
    "        indication_prrs_data.append([indication, reaction, A, B, C, D, PRR])\n",
    "\n",
    "indication_prrs = pd.DataFrame(indication_prrs_data, columns=['indication', 'reaction', 'A', 'B', 'C', 'D', 'PRR'])"
   ]
  },
  {
   "cell_type": "code",
   "execution_count": 53,
   "metadata": {},
   "outputs": [
    {
     "data": {
      "text/html": [
       "<div>\n",
       "<style scoped>\n",
       "    .dataframe tbody tr th:only-of-type {\n",
       "        vertical-align: middle;\n",
       "    }\n",
       "\n",
       "    .dataframe tbody tr th {\n",
       "        vertical-align: top;\n",
       "    }\n",
       "\n",
       "    .dataframe thead th {\n",
       "        text-align: right;\n",
       "    }\n",
       "</style>\n",
       "<table border=\"1\" class=\"dataframe\">\n",
       "  <thead>\n",
       "    <tr style=\"text-align: right;\">\n",
       "      <th></th>\n",
       "      <th>indication</th>\n",
       "      <th>reaction</th>\n",
       "      <th>A</th>\n",
       "      <th>B</th>\n",
       "      <th>C</th>\n",
       "      <th>D</th>\n",
       "      <th>PRR</th>\n",
       "    </tr>\n",
       "  </thead>\n",
       "  <tbody>\n",
       "    <tr>\n",
       "      <th>1044818</th>\n",
       "      <td>ABORTION INDUCED</td>\n",
       "      <td>36818629</td>\n",
       "      <td>51.0</td>\n",
       "      <td>168.0</td>\n",
       "      <td>7.0</td>\n",
       "      <td>219624.0</td>\n",
       "      <td>9524.510204</td>\n",
       "    </tr>\n",
       "    <tr>\n",
       "      <th>5039133</th>\n",
       "      <td>VULVOVAGINAL MYCOTIC INFECTION</td>\n",
       "      <td>42890298</td>\n",
       "      <td>78.0</td>\n",
       "      <td>235.0</td>\n",
       "      <td>14.0</td>\n",
       "      <td>219523.0</td>\n",
       "      <td>5204.496657</td>\n",
       "    </tr>\n",
       "    <tr>\n",
       "      <th>5038030</th>\n",
       "      <td>VULVOVAGINAL MYCOTIC INFECTION</td>\n",
       "      <td>37119780</td>\n",
       "      <td>91.0</td>\n",
       "      <td>222.0</td>\n",
       "      <td>45.0</td>\n",
       "      <td>219492.0</td>\n",
       "      <td>1999.376577</td>\n",
       "    </tr>\n",
       "    <tr>\n",
       "      <th>6642</th>\n",
       "      <td>ACCIDENTAL EXPOSURE</td>\n",
       "      <td>43053921</td>\n",
       "      <td>55.0</td>\n",
       "      <td>76.0</td>\n",
       "      <td>119.0</td>\n",
       "      <td>219600.0</td>\n",
       "      <td>1335.471031</td>\n",
       "    </tr>\n",
       "    <tr>\n",
       "      <th>1221230</th>\n",
       "      <td>CONTRACEPTION</td>\n",
       "      <td>42889673</td>\n",
       "      <td>89.0</td>\n",
       "      <td>1571.0</td>\n",
       "      <td>19.0</td>\n",
       "      <td>218171.0</td>\n",
       "      <td>650.514892</td>\n",
       "    </tr>\n",
       "  </tbody>\n",
       "</table>\n",
       "</div>"
      ],
      "text/plain": [
       "                             indication  reaction     A       B      C  \\\n",
       "1044818                ABORTION INDUCED  36818629  51.0   168.0    7.0   \n",
       "5039133  VULVOVAGINAL MYCOTIC INFECTION  42890298  78.0   235.0   14.0   \n",
       "5038030  VULVOVAGINAL MYCOTIC INFECTION  37119780  91.0   222.0   45.0   \n",
       "6642                ACCIDENTAL EXPOSURE  43053921  55.0    76.0  119.0   \n",
       "1221230                   CONTRACEPTION  42889673  89.0  1571.0   19.0   \n",
       "\n",
       "                D          PRR  \n",
       "1044818  219624.0  9524.510204  \n",
       "5039133  219523.0  5204.496657  \n",
       "5038030  219492.0  1999.376577  \n",
       "6642     219600.0  1335.471031  \n",
       "1221230  218171.0   650.514892  "
      ]
     },
     "execution_count": 53,
     "metadata": {},
     "output_type": "execute_result"
    }
   ],
   "source": [
    "indication_prrs[indication_prrs['A'] >= 50].sort_values(by='PRR', ascending=False).head()\n",
    "# indication_prrs[(indication_prrs['reaction']=='35506628')].sort_values(by='A', ascending=False).head(10)"
   ]
  },
  {
   "cell_type": "code",
   "execution_count": 17,
   "metadata": {},
   "outputs": [
    {
     "data": {
      "application/vnd.jupyter.widget-view+json": {
       "model_id": "4b501005765048d9aa7eb7fae467526b",
       "version_major": 2,
       "version_minor": 0
      },
      "text/plain": [
       "0it [00:00, ?it/s]"
      ]
     },
     "metadata": {},
     "output_type": "display_data"
    }
   ],
   "source": [
    "# load the meddra labels\n",
    "reaction2label = dict()\n",
    "with open(os.path.join(data_path, 'meddra_llt_pt_map.txt')) as fh:\n",
    "    reader = csv.reader(fh, delimiter='|')\n",
    "    header = next(reader)\n",
    "    #print(header)\n",
    "    for row in tqdm(reader):\n",
    "        data = dict(zip(header, row))\n",
    "        reaction2label[data['llt_concept_id']] = data['llt_concept_name']\n",
    "        reaction2label[data['pt_concept_id']] = data['pt_concept_name']"
   ]
  },
  {
   "cell_type": "code",
   "execution_count": 62,
   "metadata": {},
   "outputs": [],
   "source": [
    "reaction2index = json.load(open(os.path.join(dataset_path, 'reaction2index.json')))\n",
    "ordered_reactions = [key for key, index in sorted(reaction2index.items(), key=lambda item: item[1])]\n",
    "\n",
    "indication2index = json.load(open(os.path.join(dataset_path, 'indication2index.json')))\n",
    "ordered_indications = [key for key, index in sorted(indication2index.items(), key=lambda item: item[1])]"
   ]
  },
  {
   "cell_type": "code",
   "execution_count": 63,
   "metadata": {},
   "outputs": [
    {
     "name": "stderr",
     "output_type": "stream",
     "text": [
      "/var/folders/l5/4jn07y290nncb4wnyhsq33hh0000gt/T/ipykernel_10182/361890644.py:11: RuntimeWarning: divide by zero encountered in divide\n",
      "  PRRs = ((A/B)/(C/D))\n"
     ]
    }
   ],
   "source": [
    "reactions = sp.sparse.load_npz(os.path.join(dataset_path, 'reports_by_reactions.npz'))\n",
    "indications = sp.sparse.load_npz(os.path.join(dataset_path, 'reports_by_indications.npz'))\n",
    "\n",
    "A = (indications.T @ reactions).toarray()\n",
    "B = (indications.sum(0).T - A).A\n",
    "# B[B==0] = 1\n",
    "C = (reactions.sum(0) - A).A\n",
    "# C[C==0] = 1\n",
    "D = (num_reports- (A+B+C))\n",
    "\n",
    "PRRs = ((A/B)/(C/D))"
   ]
  },
  {
   "cell_type": "code",
   "execution_count": 64,
   "metadata": {},
   "outputs": [],
   "source": [
    "mask = A>=50\n",
    "indices = np.where(mask)\n",
    "inds = [ordered_indications[i] for i in indices[0]]\n",
    "rxns = [ordered_reactions[i] for i in indices[1]]\n",
    "rxn_labels = [reaction2label[ordered_reactions[i]] for i in indices[1]]\n",
    "\n",
    "ind_prrs = pd.DataFrame({\n",
    "    'indication': inds,\n",
    "    'reaction': rxns,\n",
    "    'reaction_label': rxn_labels,\n",
    "    'A': A[mask],\n",
    "    'B': B[mask],\n",
    "    'C': C[mask],\n",
    "    'D': D[mask],\n",
    "    'PRR': PRRs[mask],\n",
    "})"
   ]
  },
  {
   "cell_type": "code",
   "execution_count": 66,
   "metadata": {},
   "outputs": [
    {
     "data": {
      "text/html": [
       "<div>\n",
       "<style scoped>\n",
       "    .dataframe tbody tr th:only-of-type {\n",
       "        vertical-align: middle;\n",
       "    }\n",
       "\n",
       "    .dataframe tbody tr th {\n",
       "        vertical-align: top;\n",
       "    }\n",
       "\n",
       "    .dataframe thead th {\n",
       "        text-align: right;\n",
       "    }\n",
       "</style>\n",
       "<table border=\"1\" class=\"dataframe\">\n",
       "  <thead>\n",
       "    <tr style=\"text-align: right;\">\n",
       "      <th></th>\n",
       "      <th>indication</th>\n",
       "      <th>reaction</th>\n",
       "      <th>reaction_label</th>\n",
       "      <th>A</th>\n",
       "      <th>B</th>\n",
       "      <th>C</th>\n",
       "      <th>D</th>\n",
       "      <th>PRR</th>\n",
       "    </tr>\n",
       "  </thead>\n",
       "  <tbody>\n",
       "    <tr>\n",
       "      <th>2227</th>\n",
       "      <td>PROPHYLAXIS AGAINST TRANSPLANT REJECTION</td>\n",
       "      <td>36009897</td>\n",
       "      <td>Kidney transplant rejection</td>\n",
       "      <td>111</td>\n",
       "      <td>553</td>\n",
       "      <td>74</td>\n",
       "      <td>219112</td>\n",
       "      <td>594.336347</td>\n",
       "    </tr>\n",
       "    <tr>\n",
       "      <th>1905</th>\n",
       "      <td>MULTIPLE SCLEROSIS</td>\n",
       "      <td>36718112</td>\n",
       "      <td>Multiple sclerosis relapse</td>\n",
       "      <td>337</td>\n",
       "      <td>6285</td>\n",
       "      <td>26</td>\n",
       "      <td>213202</td>\n",
       "      <td>439.685907</td>\n",
       "    </tr>\n",
       "    <tr>\n",
       "      <th>2123</th>\n",
       "      <td>CONTRACEPTION</td>\n",
       "      <td>36818844</td>\n",
       "      <td>Unintended pregnancy</td>\n",
       "      <td>231</td>\n",
       "      <td>1429</td>\n",
       "      <td>87</td>\n",
       "      <td>218103</td>\n",
       "      <td>405.249174</td>\n",
       "    </tr>\n",
       "    <tr>\n",
       "      <th>1989</th>\n",
       "      <td>HORMONE REPLACEMENT THERAPY</td>\n",
       "      <td>36312432</td>\n",
       "      <td>Progesterone receptor assay positive</td>\n",
       "      <td>156</td>\n",
       "      <td>1207</td>\n",
       "      <td>89</td>\n",
       "      <td>218398</td>\n",
       "      <td>317.158225</td>\n",
       "    </tr>\n",
       "    <tr>\n",
       "      <th>2178</th>\n",
       "      <td>METASTASES TO BONE</td>\n",
       "      <td>36516749</td>\n",
       "      <td>Osteonecrosis</td>\n",
       "      <td>391</td>\n",
       "      <td>231</td>\n",
       "      <td>1247</td>\n",
       "      <td>217981</td>\n",
       "      <td>295.880923</td>\n",
       "    </tr>\n",
       "    <tr>\n",
       "      <th>1988</th>\n",
       "      <td>HORMONE REPLACEMENT THERAPY</td>\n",
       "      <td>36312409</td>\n",
       "      <td>Oestrogen receptor assay positive</td>\n",
       "      <td>182</td>\n",
       "      <td>1181</td>\n",
       "      <td>122</td>\n",
       "      <td>218365</td>\n",
       "      <td>275.832026</td>\n",
       "    </tr>\n",
       "    <tr>\n",
       "      <th>1985</th>\n",
       "      <td>HORMONE REPLACEMENT THERAPY</td>\n",
       "      <td>36617163</td>\n",
       "      <td>Breast cancer female</td>\n",
       "      <td>534</td>\n",
       "      <td>829</td>\n",
       "      <td>562</td>\n",
       "      <td>217925</td>\n",
       "      <td>249.779887</td>\n",
       "    </tr>\n",
       "    <tr>\n",
       "      <th>2236</th>\n",
       "      <td>HAEMOPHILIA</td>\n",
       "      <td>35809320</td>\n",
       "      <td>Adverse event</td>\n",
       "      <td>174</td>\n",
       "      <td>145</td>\n",
       "      <td>1071</td>\n",
       "      <td>218460</td>\n",
       "      <td>244.773109</td>\n",
       "    </tr>\n",
       "    <tr>\n",
       "      <th>932</th>\n",
       "      <td>DIABETES MELLITUS NON-INSULIN-DEPENDENT</td>\n",
       "      <td>35708172</td>\n",
       "      <td>Early satiety</td>\n",
       "      <td>112</td>\n",
       "      <td>4266</td>\n",
       "      <td>27</td>\n",
       "      <td>215445</td>\n",
       "      <td>209.493150</td>\n",
       "    </tr>\n",
       "    <tr>\n",
       "      <th>2179</th>\n",
       "      <td>METASTASES TO BONE</td>\n",
       "      <td>37521200</td>\n",
       "      <td>Tooth extraction</td>\n",
       "      <td>175</td>\n",
       "      <td>447</td>\n",
       "      <td>414</td>\n",
       "      <td>218814</td>\n",
       "      <td>206.921344</td>\n",
       "    </tr>\n",
       "  </tbody>\n",
       "</table>\n",
       "</div>"
      ],
      "text/plain": [
       "                                    indication  reaction  \\\n",
       "2227  PROPHYLAXIS AGAINST TRANSPLANT REJECTION  36009897   \n",
       "1905                        MULTIPLE SCLEROSIS  36718112   \n",
       "2123                             CONTRACEPTION  36818844   \n",
       "1989               HORMONE REPLACEMENT THERAPY  36312432   \n",
       "2178                        METASTASES TO BONE  36516749   \n",
       "1988               HORMONE REPLACEMENT THERAPY  36312409   \n",
       "1985               HORMONE REPLACEMENT THERAPY  36617163   \n",
       "2236                               HAEMOPHILIA  35809320   \n",
       "932    DIABETES MELLITUS NON-INSULIN-DEPENDENT  35708172   \n",
       "2179                        METASTASES TO BONE  37521200   \n",
       "\n",
       "                            reaction_label    A     B     C       D  \\\n",
       "2227           Kidney transplant rejection  111   553    74  219112   \n",
       "1905            Multiple sclerosis relapse  337  6285    26  213202   \n",
       "2123                  Unintended pregnancy  231  1429    87  218103   \n",
       "1989  Progesterone receptor assay positive  156  1207    89  218398   \n",
       "2178                         Osteonecrosis  391   231  1247  217981   \n",
       "1988     Oestrogen receptor assay positive  182  1181   122  218365   \n",
       "1985                  Breast cancer female  534   829   562  217925   \n",
       "2236                         Adverse event  174   145  1071  218460   \n",
       "932                          Early satiety  112  4266    27  215445   \n",
       "2179                      Tooth extraction  175   447   414  218814   \n",
       "\n",
       "             PRR  \n",
       "2227  594.336347  \n",
       "1905  439.685907  \n",
       "2123  405.249174  \n",
       "1989  317.158225  \n",
       "2178  295.880923  \n",
       "1988  275.832026  \n",
       "1985  249.779887  \n",
       "2236  244.773109  \n",
       "932   209.493150  \n",
       "2179  206.921344  "
      ]
     },
     "execution_count": 66,
     "metadata": {},
     "output_type": "execute_result"
    }
   ],
   "source": [
    "ind_prrs[ind_prrs['A'] >= 100].sort_values(by='PRR', ascending=False).head(10)\n",
    "# ind_prrs[(ind_prrs['reaction']=='35506628')].sort_values(by='A', ascending=False).head(10)"
   ]
  },
  {
   "cell_type": "code",
   "execution_count": 51,
   "metadata": {},
   "outputs": [
    {
     "data": {
      "text/plain": [
       "array([  0,   1,   1, ..., 726, 726, 726])"
      ]
     },
     "execution_count": 51,
     "metadata": {},
     "output_type": "execute_result"
    }
   ],
   "source": [
    "indices[0]"
   ]
  },
  {
   "cell_type": "code",
   "execution_count": 59,
   "metadata": {},
   "outputs": [
    {
     "data": {
      "text/plain": [
       "(array([113]), array([472]))"
      ]
     },
     "execution_count": 59,
     "metadata": {},
     "output_type": "execute_result"
    }
   ],
   "source": [
    "np.where(PRRs==PRRs[mask].max())"
   ]
  },
  {
   "cell_type": "code",
   "execution_count": 61,
   "metadata": {},
   "outputs": [
    {
     "data": {
      "text/plain": [
       "('ABORTION INDUCED', '36312034')"
      ]
     },
     "execution_count": 61,
     "metadata": {},
     "output_type": "execute_result"
    }
   ],
   "source": [
    "ordered_indications[113], ordered_reactions[472]"
   ]
  },
  {
   "cell_type": "code",
   "execution_count": null,
   "metadata": {},
   "outputs": [],
   "source": []
  }
 ],
 "metadata": {
  "kernelspec": {
   "display_name": "Python 3",
   "language": "python",
   "name": "python3"
  },
  "language_info": {
   "codemirror_mode": {
    "name": "ipython",
    "version": 3
   },
   "file_extension": ".py",
   "mimetype": "text/x-python",
   "name": "python",
   "nbconvert_exporter": "python",
   "pygments_lexer": "ipython3",
   "version": "3.11.6"
  }
 },
 "nbformat": 4,
 "nbformat_minor": 2
}
