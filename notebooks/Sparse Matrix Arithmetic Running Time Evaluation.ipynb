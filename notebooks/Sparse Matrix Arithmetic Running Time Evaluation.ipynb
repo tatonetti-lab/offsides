{
 "cells": [
  {
   "cell_type": "markdown",
   "id": "0ca13b1d",
   "metadata": {},
   "source": [
    "## Running time evalaution\n",
    "\n",
    "The purpose of this notebook was to identify generally how we will approach training the propensity score matching models. Using sparse matrices and the built in arithmatic functions for them we are able to acheive reasonable running times even when the matrices approach 10 million reports for 7,000 drugs and drug ingredients. See below for details.\n",
    "\n",
    "Note that the sections below (dividing by markdown blocks) are in reverse order. "
   ]
  },
  {
   "cell_type": "code",
   "execution_count": 22,
   "id": "cc09e0cb",
   "metadata": {},
   "outputs": [],
   "source": [
    "import sys\n",
    "import time\n",
    "import timeit\n",
    "\n",
    "import scipy as sp\n",
    "import numpy as np\n",
    "\n",
    "import seaborn as sns\n",
    "import matplotlib.pyplot as plt\n",
    "\n",
    "from tqdm import tqdm\n",
    "\n",
    "from sklearn.linear_model import LinearRegression\n",
    "from sklearn.metrics import roc_auc_score\n",
    "from sklearn.model_selection import cross_val_score\n",
    "\n",
    "%matplotlib inline"
   ]
  },
  {
   "cell_type": "code",
   "execution_count": 23,
   "id": "def6163d",
   "metadata": {},
   "outputs": [],
   "source": [
    "sys.path.append('../src')\n",
    "from propensity_score_match import get_features, get_labels\n",
    "from faers_processor import save_json, load_json, generate_file_md5, save_object, load_object"
   ]
  },
  {
   "cell_type": "markdown",
   "id": "b746f196",
   "metadata": {},
   "source": [
    "## Test using the actual data\n",
    "\n",
    "Below we tested using simulated data. Here we load a sample of the actual data and retest running times."
   ]
  },
  {
   "cell_type": "code",
   "execution_count": 24,
   "id": "cb040ce7",
   "metadata": {},
   "outputs": [],
   "source": [
    "dataset_info = load_json('../data/faers/drug/datasets/drug_2004-2004/dataset.json')"
   ]
  },
  {
   "cell_type": "code",
   "execution_count": 25,
   "id": "ae1b5635",
   "metadata": {},
   "outputs": [
    {
     "name": "stdout",
     "output_type": "stream",
     "text": [
      "  Loading feature matrices from disk.\n",
      "  Concatenating feature matrices into single matrix.\n",
      "  Dropping columns without enough data.\n",
      "    Reduced columns from 54310 to 4323, a 92.04% reduction.\n"
     ]
    },
    {
     "data": {
      "text/plain": [
       "((199818, 4323), 805017, 0.0009319341113945961)"
      ]
     },
     "execution_count": 25,
     "metadata": {},
     "output_type": "execute_result"
    }
   ],
   "source": [
    "features = get_features(dataset_info, \n",
    "                        feature_method='droprare', \n",
    "                        dataset_path='../data/faers/drug/datasets/drug_2004-2004/',\n",
    "                        droprare_min=10)\n",
    "features.shape, features.getnnz(), features.getnnz()/(features.shape[0]*features.shape[1])"
   ]
  },
  {
   "cell_type": "code",
   "execution_count": 26,
   "id": "ca3ccb24",
   "metadata": {},
   "outputs": [
    {
     "name": "stdout",
     "output_type": "stream",
     "text": [
      "  Loading labels matrix from disk.\n",
      "  Removing examples with too few reports.\n",
      "    Reduced columns from 5357 to 1640, a 69.39% reduction.\n"
     ]
    },
    {
     "data": {
      "text/plain": [
       "((199818, 1640), 414124, 0.001263723158806221)"
      ]
     },
     "execution_count": 26,
     "metadata": {},
     "output_type": "execute_result"
    }
   ],
   "source": [
    "labels, colnames = get_labels(dataset_info, \n",
    "                              dataset_path='../data/faers/drug/datasets/drug_2004-2004/',\n",
    "                              exposed_min=10)\n",
    "labels.shape, labels.getnnz(), labels.getnnz()/(labels.shape[0]*labels.shape[1])"
   ]
  },
  {
   "cell_type": "code",
   "execution_count": 28,
   "id": "c1ffa8ef",
   "metadata": {},
   "outputs": [
    {
     "name": "stderr",
     "output_type": "stream",
     "text": [
      "100%|██████████| 1640/1640 [02:11<00:00, 12.47it/s]                                                                                                                                                                                                           "
     ]
    },
    {
     "name": "stdout",
     "output_type": "stream",
     "text": [
      "Completed in 131.4716727733612s\n"
     ]
    },
    {
     "name": "stderr",
     "output_type": "stream",
     "text": [
      "\n"
     ]
    }
   ],
   "source": [
    "aurocs = list()\n",
    "xval_aurocs = list()\n",
    "start = time.time()\n",
    "nreports = labels.shape[0]\n",
    "for i in tqdm(range(labels.shape[1]), bar_format='{l_bar}{bar:10}{r_bar}{bar:-10b}'):\n",
    "    \n",
    "    p = max(labels[:,i].sum(), 10000)/labels.shape[0]\n",
    "    mask = np.where((labels[:,i].T + np.random.binomial(1, p, nreports)) > 0)[1]\n",
    "    \n",
    "    intersection = (labels[mask,i].multiply(features[mask,:])).sum(axis=0)\n",
    "    union = labels[mask,i].sum() + features[mask,:].sum(axis=0) - intersection\n",
    "    \n",
    "    tanimoto = intersection / union\n",
    "    \n",
    "    feature_mask = np.where(np.squeeze(np.asarray(tanimoto > 0)) & np.squeeze(np.asarray(tanimoto < 0.4)))[0]\n",
    "    if len(feature_mask) == 0:\n",
    "        continue\n",
    "    \n",
    "    i_features = features[mask,:][:,feature_mask]\n",
    "    i_labels = labels[mask,i].toarray()\n",
    "    \n",
    "    lr = LinearRegression()\n",
    "    reg = lr.fit(i_features, i_labels)\n",
    "    \n",
    "    auroc = roc_auc_score(i_labels, lr.predict(i_features))\n",
    "    aurocs.append(auroc)\n",
    "    \n",
    "    # this is time consuming and only used to evaluate fit, would not be used in\n",
    "    # actual model training\n",
    "    # xval_aurocs.append(cross_val_score(lr, i_features, i_labels, scoring='roc_auc', cv=2).mean())\n",
    "    \n",
    "print(f\"Completed in {time.time()-start}s\")"
   ]
  },
  {
   "cell_type": "code",
   "execution_count": 29,
   "id": "c0c7a2b4",
   "metadata": {},
   "outputs": [
    {
     "data": {
      "text/plain": [
       "(array([   2.,    2.,    5.,    6.,   14.,   21.,   22.,   71.,  284.,\n",
       "        1212.]),\n",
       " array([0.52099049, 0.56889144, 0.61679239, 0.66469334, 0.71259429,\n",
       "        0.76049524, 0.80839619, 0.85629715, 0.9041981 , 0.95209905,\n",
       "        1.        ]),\n",
       " <BarContainer object of 10 artists>)"
      ]
     },
     "execution_count": 29,
     "metadata": {},
     "output_type": "execute_result"
    },
    {
     "data": {
      "image/png": "[encoded data removed]",
      "text/plain": [
       "<Figure size 640x480 with 1 Axes>"
      ]
     },
     "metadata": {},
     "output_type": "display_data"
    }
   ],
   "source": [
    "plt.hist(aurocs, alpha=0.5, bins=10)\n",
    "# plt.hist(xval_aurocs, alpha=0.5, bins=10);"
   ]
  },
  {
   "cell_type": "markdown",
   "id": "fedddd72",
   "metadata": {},
   "source": [
    "## Test out using small matrices"
   ]
  },
  {
   "cell_type": "code",
   "execution_count": 30,
   "id": "73317ed6",
   "metadata": {},
   "outputs": [],
   "source": [
    "rng = np.random.default_rng()\n",
    "# rvs = sp.stats.poisson(1, loc=1).rvs\n",
    "rvs = sp.stats.binom(1, 0.5).rvs"
   ]
  },
  {
   "cell_type": "code",
   "execution_count": 31,
   "id": "3d1278c2",
   "metadata": {},
   "outputs": [],
   "source": [
    "A = sp.sparse.random(10, 4, density=1.0, random_state=rng, data_rvs=rvs).tocsc()\n",
    "B = sp.sparse.random(10, 6, density=1.0, random_state=rng, data_rvs=rvs).tocsc()\n",
    "# B = sp.sparse.csr_matrix(np.ones((3, 6)))"
   ]
  },
  {
   "cell_type": "code",
   "execution_count": 32,
   "id": "07f466fc",
   "metadata": {},
   "outputs": [
    {
     "data": {
      "text/plain": [
       "(array([[1.],\n",
       "        [0.],\n",
       "        [0.],\n",
       "        [1.],\n",
       "        [1.],\n",
       "        [0.],\n",
       "        [1.],\n",
       "        [1.],\n",
       "        [0.],\n",
       "        [0.]]),\n",
       " array([[1., 1., 0., 0., 1., 0.],\n",
       "        [0., 0., 1., 1., 1., 1.],\n",
       "        [1., 1., 0., 1., 0., 1.],\n",
       "        [1., 0., 0., 1., 1., 0.],\n",
       "        [0., 0., 1., 0., 0., 1.],\n",
       "        [1., 0., 1., 0., 1., 0.],\n",
       "        [1., 1., 1., 1., 0., 1.],\n",
       "        [1., 1., 0., 0., 0., 0.],\n",
       "        [0., 0., 0., 1., 0., 0.],\n",
       "        [0., 1., 0., 0., 1., 0.]]))"
      ]
     },
     "execution_count": 32,
     "metadata": {},
     "output_type": "execute_result"
    }
   ],
   "source": [
    "A[:,0].A, B.A"
   ]
  },
  {
   "cell_type": "code",
   "execution_count": 33,
   "id": "3b75a499",
   "metadata": {
    "scrolled": false
   },
   "outputs": [
    {
     "name": "stdout",
     "output_type": "stream",
     "text": [
      "[[4. 3. 2. 2. 2. 2.]]\n",
      "[[7. 7. 7. 8. 8. 7.]]\n",
      "[[0.57142857 0.42857143 0.28571429 0.25       0.25       0.28571429]]\n"
     ]
    },
    {
     "data": {
      "text/plain": [
       "array([[1.],\n",
       "       [0.],\n",
       "       [0.],\n",
       "       [1.],\n",
       "       [1.],\n",
       "       [0.],\n",
       "       [1.],\n",
       "       [1.],\n",
       "       [0.],\n",
       "       [0.]])"
      ]
     },
     "execution_count": 33,
     "metadata": {},
     "output_type": "execute_result"
    }
   ],
   "source": [
    "# Memory and compute efficient computation of tanimoto coefficient\n",
    "i = 0\n",
    "\n",
    "intersection = (A[:,i].multiply(B)).sum(axis=0)\n",
    "union = A[:,i].sum() + B.sum(axis=0) - intersection\n",
    "tanimoto = intersection / union\n",
    "print(intersection)\n",
    "print(union)\n",
    "print(tanimoto)\n",
    "A[:,i].A"
   ]
  },
  {
   "cell_type": "code",
   "execution_count": 34,
   "id": "a09b83e4",
   "metadata": {},
   "outputs": [
    {
     "name": "stdout",
     "output_type": "stream",
     "text": [
      "9.51 ms ± 627 µs per loop (mean ± std. dev. of 7 runs, 100 loops each)\n",
      "644 ms ± 3.53 ms per loop (mean ± std. dev. of 7 runs, 1 loop each)\n"
     ]
    }
   ],
   "source": [
    "%timeit np.random.binomial(1, 0.01, 1000000)\n",
    "%timeit [np.random.binomial(1, 0.01) for _ in range(1000000)]"
   ]
  },
  {
   "cell_type": "markdown",
   "id": "4b3fd7fe",
   "metadata": {},
   "source": [
    "## Test out with large random data"
   ]
  },
  {
   "cell_type": "code",
   "execution_count": 35,
   "id": "95196c02",
   "metadata": {},
   "outputs": [
    {
     "name": "stdout",
     "output_type": "stream",
     "text": [
      "(1000000, 5000) 0.0002\n",
      "(1000000, 7000) 0.0002\n"
     ]
    },
    {
     "name": "stderr",
     "output_type": "stream",
     "text": [
      "100%|██████████| 5000/5000 [04:51<00:00, 17.14it/s]                                                                                                                                                                                                           "
     ]
    },
    {
     "name": "stdout",
     "output_type": "stream",
     "text": [
      "Completed in 291.7316610813141s\n"
     ]
    },
    {
     "name": "stderr",
     "output_type": "stream",
     "text": [
      "\n"
     ]
    }
   ],
   "source": [
    "# simulating the amount of data and density we have \n",
    "# in the real matrices, which is approx: \n",
    "# 10 million by 5,000 for the features and\n",
    "# 10 million by 2,000 for the labels\n",
    "\n",
    "rvs = sp.stats.binom(1, 1.0).rvs\n",
    "nreports= 1_000_000\n",
    "A = sp.sparse.random(nreports, 5_000, density=0.0002, random_state=rng, data_rvs=rvs).tocsc()\n",
    "# B = sp.sparse.random(nreports, 100, density=0.0002, random_state=rng, data_rvs=rvs).tocsc()\n",
    "B = sp.sparse.hstack([A, sp.sparse.random(nreports, 2_000, density=0.0002, random_state=rng, data_rvs=rvs).tocsc()])\n",
    "\n",
    "print(A.shape, A.sum()/(A.shape[0]*A.shape[1]))\n",
    "print(B.shape, B.sum()/(B.shape[0]*B.shape[1]))\n",
    "\n",
    "# tanimoto = np.zeros((A.shape[1], B.shape[1]))\n",
    "aurocs = list()\n",
    "xval_aurocs = list()\n",
    "start = time.time()\n",
    "for i in tqdm(range(A.shape[1]), bar_format='{l_bar}{bar:10}{r_bar}{bar:-10b}'):\n",
    "    \n",
    "    p = max(A[:,i].sum(), 10000)/A.shape[0]\n",
    "    mask = np.where((A[:,i].T + np.random.binomial(1, 0.01, nreports)) > 0)[1]\n",
    "    \n",
    "    intersection = (A[mask,i].multiply(B[mask,:])).sum(axis=0)\n",
    "    union = A[mask,i].sum() + B[mask,:].sum(axis=0) - intersection\n",
    "    \n",
    "    tanimoto = intersection / union\n",
    "    \n",
    "    feature_mask = np.where(np.squeeze(np.asarray(tanimoto > 0)) & np.squeeze(np.asarray(tanimoto < 0.2)))[0]\n",
    "    features = B[mask,:][:,feature_mask]\n",
    "    labels = A[mask,i].toarray()\n",
    "    \n",
    "#     print(features.shape, labels.shape)\n",
    "    lr = LinearRegression()\n",
    "    reg = lr.fit(features, labels)\n",
    "#     predictions = (B[:,feature_mask] @ reg.coef_.T)\n",
    "    \n",
    "    auroc = roc_auc_score(labels, lr.predict(features))\n",
    "    aurocs.append(auroc)\n",
    "    \n",
    "    # this is time consuming and only used to evaluate fit, would not be used in\n",
    "    # actual model training\n",
    "    # xval_aurocs.append(cross_val_score(lr, features, labels, scoring='roc_auc').mean())\n",
    "#     print(reg.coef_.shape)\n",
    "#     print(reg.intercept_)\n",
    "#     result = sp.sparse.linalg.lsqr(features, labels)\n",
    "#     x = result[0]\n",
    "#     prediction = features @ x\n",
    "#     error = prediction-labels.ravel()\n",
    "#     print(np.abs(error).mean())\n",
    "#     print(prediction.sum())\n",
    "#     print(labels.sum())\n",
    "#     break\n",
    "    \n",
    "print(f\"Completed in {time.time()-start}s\")"
   ]
  },
  {
   "cell_type": "code",
   "execution_count": 36,
   "id": "93153183",
   "metadata": {},
   "outputs": [
    {
     "data": {
      "text/plain": [
       "0.18935714841560403"
      ]
     },
     "execution_count": 36,
     "metadata": {},
     "output_type": "execute_result"
    }
   ],
   "source": [
    "lr = LinearRegression()\n",
    "cross_val_score(lr, features, labels, scoring='roc_auc').mean()"
   ]
  },
  {
   "cell_type": "code",
   "execution_count": 37,
   "id": "15c216a6",
   "metadata": {},
   "outputs": [
    {
     "data": {
      "image/png": "[encoded data removed]",
      "text/plain": [
       "<Figure size 640x480 with 1 Axes>"
      ]
     },
     "metadata": {},
     "output_type": "display_data"
    }
   ],
   "source": [
    "plt.hist(aurocs);"
   ]
  },
  {
   "cell_type": "code",
   "execution_count": 38,
   "id": "c5b10617",
   "metadata": {},
   "outputs": [
    {
     "name": "stdout",
     "output_type": "stream",
     "text": [
      "(1000000, 298) (1, 298)\n",
      "<class 'numpy.ndarray'> (1000000, 1)\n"
     ]
    },
    {
     "data": {
      "image/png": "[encoded data removed]",
      "text/plain": [
       "<Figure size 640x480 with 1 Axes>"
      ]
     },
     "metadata": {},
     "output_type": "display_data"
    }
   ],
   "source": [
    "print(B[:,feature_mask].shape, reg.coef_.shape)\n",
    "predictions = (B[:,feature_mask] @ reg.coef_.T)\n",
    "print(type(predictions), predictions.shape)\n",
    "plt.hist(predictions[predictions!=0]);"
   ]
  },
  {
   "cell_type": "markdown",
   "id": "746018e7",
   "metadata": {},
   "source": [
    "## Compare performance of CSC matrix to CSR matrix for Tanimoto calculation\n",
    "\n",
    "This test is peformed on the entire matrix to increase computational load. In actual method we will restrict to a sample of the unexposed reports (above). \n",
    "\n",
    "Results: CSC is faster."
   ]
  },
  {
   "cell_type": "code",
   "execution_count": 161,
   "id": "84e60c92",
   "metadata": {},
   "outputs": [
    {
     "name": "stdout",
     "output_type": "stream",
     "text": [
      "0.0002\n",
      "0.0002\n"
     ]
    },
    {
     "name": "stderr",
     "output_type": "stream",
     "text": [
      "100%|██████████| 1000/1000 [00:25<00:00, 39.44it/s]                                                                                                                                                                                                           "
     ]
    },
    {
     "name": "stdout",
     "output_type": "stream",
     "text": [
      "Completed in 25.35836696624756s\n"
     ]
    },
    {
     "name": "stderr",
     "output_type": "stream",
     "text": [
      "\n"
     ]
    }
   ],
   "source": [
    "rvs = sp.stats.binom(1, 1.0).rvs\n",
    "A = sp.sparse.random(1000000, 1000, density=0.0002, random_state=rng, data_rvs=rvs).tocsc()\n",
    "B = sp.sparse.random(1000000, 100, density=0.0002, random_state=rng, data_rvs=rvs).tocsc()\n",
    "print(A.sum()/(A.shape[0]*A.shape[1]))\n",
    "print(B.sum()/(B.shape[0]*B.shape[1]))\n",
    "\n",
    "start = time.time()\n",
    "for i in tqdm(range(A.shape[1]), bar_format='{l_bar}{bar:10}{r_bar}{bar:-10b}'):\n",
    "    intersection = (A[:,i].multiply(B)).sum(axis=0)\n",
    "    union = A[:,i].sum() + B.sum(axis=0) - intersection\n",
    "    tanimoto = intersection / union\n",
    "    #print(tanimoto)\n",
    "print(f\"Completed in {time.time()-start}s\")"
   ]
  },
  {
   "cell_type": "code",
   "execution_count": 162,
   "id": "b439f282",
   "metadata": {},
   "outputs": [
    {
     "name": "stdout",
     "output_type": "stream",
     "text": [
      "0.0002\n",
      "0.0002\n"
     ]
    },
    {
     "name": "stderr",
     "output_type": "stream",
     "text": [
      "100%|██████████| 1000/1000 [00:40<00:00, 24.68it/s]                                                                                                                                                                                                           "
     ]
    },
    {
     "name": "stdout",
     "output_type": "stream",
     "text": [
      "Completed in 40.52141809463501s\n"
     ]
    },
    {
     "name": "stderr",
     "output_type": "stream",
     "text": [
      "\n"
     ]
    }
   ],
   "source": [
    "A = A.tocsr()\n",
    "B = B.tocsr()\n",
    "print(A.sum()/(A.shape[0]*A.shape[1]))\n",
    "print(B.sum()/(B.shape[0]*B.shape[1]))\n",
    "\n",
    "start = time.time()\n",
    "for i in tqdm(range(A.shape[1]), bar_format='{l_bar}{bar:10}{r_bar}{bar:-10b}'):\n",
    "    intersection = (A[:,i].multiply(B)).sum(axis=0)\n",
    "    union = A[:,i].sum() + B.sum(axis=0) - intersection\n",
    "    tanimoto = intersection / union\n",
    "    #print(tanimoto)\n",
    "print(f\"Completed in {time.time()-start}s\")"
   ]
  },
  {
   "cell_type": "code",
   "execution_count": null,
   "id": "23851ba9",
   "metadata": {},
   "outputs": [],
   "source": []
  }
 ],
 "metadata": {
  "kernelspec": {
   "display_name": "Python 3 (ipykernel)",
   "language": "python",
   "name": "python3"
  },
  "language_info": {
   "codemirror_mode": {
    "name": "ipython",
    "version": 3
   },
   "file_extension": ".py",
   "mimetype": "text/x-python",
   "name": "python",
   "nbconvert_exporter": "python",
   "pygments_lexer": "ipython3",
   "version": "3.10.8"
  }
 },
 "nbformat": 4,
 "nbformat_minor": 5
}
