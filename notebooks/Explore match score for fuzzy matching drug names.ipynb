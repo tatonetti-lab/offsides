{
 "cells": [
  {
   "cell_type": "code",
   "execution_count": 52,
   "id": "a829819d",
   "metadata": {},
   "outputs": [],
   "source": [
    "import os\n",
    "import sys\n",
    "import pandas as pd\n",
    "import scipy as sp\n",
    "import numpy as np\n",
    "import seaborn as sns\n",
    "import matplotlib.pyplot as plt\n",
    "\n",
    "import sklearn\n",
    "from sklearn import metrics\n",
    "from sklearn.model_selection import cross_val_score\n",
    "from sklearn.linear_model import LogisticRegression\n",
    "\n",
    "%matplotlib inline"
   ]
  },
  {
   "cell_type": "code",
   "execution_count": 39,
   "id": "d05c41fd",
   "metadata": {},
   "outputs": [],
   "source": [
    "def prdata(labels, preds, f1_threshold = None):\n",
    "    precision, recall, thresholds = metrics.precision_recall_curve(labels, preds)\n",
    "    numerator = 2 * recall * precision\n",
    "    denom = recall + precision\n",
    "    f1_scores = np.divide(numerator, denom, out=np.zeros_like(denom), where=(denom!=0))\n",
    "\n",
    "    if not f1_threshold is None:\n",
    "        # if testing, we use the override f1_threshold (usually from validation set)\n",
    "        tthresh = thresholds[np.argmin(np.abs(thresholds-f1_threshold))]\n",
    "        max_f1 = f1_scores[np.argmin(np.abs(thresholds-f1_threshold))]\n",
    "        max_f1_precision = precision[np.argmin(np.abs(thresholds-f1_threshold))]\n",
    "        max_f1_recall = recall[np.argmin(np.abs(thresholds-f1_threshold))]\n",
    "        max_f1_thresh = f1_threshold\n",
    "    else:\n",
    "        max_f1_thresh = thresholds[np.argmax(f1_scores)]\n",
    "        max_f1 = np.max(f1_scores)\n",
    "        max_f1_precision = precision[np.argmax(f1_scores)]\n",
    "        max_f1_recall = recall[np.argmax(f1_scores)]\n",
    "\n",
    "    return {\n",
    "        'precision': precision,\n",
    "        'recall': recall,\n",
    "        'max_f1': max_f1,\n",
    "        'max_f1_threshold': max_f1_thresh,\n",
    "        'max_f1_precision': max_f1_precision,\n",
    "        'max_f1_recall': max_f1_recall,\n",
    "        'pr_auc': metrics.auc(recall, precision)\n",
    "    }"
   ]
  },
  {
   "cell_type": "code",
   "execution_count": 54,
   "id": "9fc2ef03",
   "metadata": {},
   "outputs": [
    {
     "data": {
      "text/plain": [
       "(25, 26)"
      ]
     },
     "execution_count": 54,
     "metadata": {},
     "output_type": "execute_result"
    }
   ],
   "source": [
    "correct = [0.5833333333333333, 0.47058823529411764, 0.4, 0.5087719298245614, 0.6153846153846154, 0.4375, 0.5833333333333333, 0.5714285714285714, 0.59375, 0.4285714285714286, 0.4285714285714286, 0.4035087719298246, 0.5833333333333333, 0.5454545454545454, 0.5714285714285714, 0.5357142857142857, 0.75, 0.6428571428571428, 0.6428571428571428, 0.6428571428571428, 0.5454545454545454, 0.8, 0.5454545454545454, 0.7857142857142857, 0.5333333333333333]\n",
    "incorrect = [0.47058823529411764, 0.6666666666666667, 0.5, 0.33333333333333337, 0.38095238095238093, 0.5, 0.44999999999999996, 0.6666666666666667, 0.5555555555555556, 0.5, 0.4444444444444444, 0.625, 0.7272727272727273, 0.625, 0.4, 0.5555555555555556, 0.625, 0.625, 0.4666666666666667, 0.3548387096774194, 0.5, 0.5, 0.4666666666666667, 0.5, 0.625, 0.4666666666666667]\n",
    "len(correct), len(incorrect)"
   ]
  },
  {
   "cell_type": "code",
   "execution_count": 55,
   "id": "e5fb3523",
   "metadata": {},
   "outputs": [
    {
     "data": {
      "text/plain": [
       "(0.5659680208852035, 0.5204182413622641)"
      ]
     },
     "execution_count": 55,
     "metadata": {},
     "output_type": "execute_result"
    }
   ],
   "source": [
    "np.mean(correct), np.mean(incorrect)"
   ]
  },
  {
   "cell_type": "code",
   "execution_count": 56,
   "id": "25902eba",
   "metadata": {},
   "outputs": [
    {
     "data": {
      "text/plain": [
       "(array([2., 2., 2., 4., 6., 2., 0., 5., 2., 1.]),\n",
       " array([0.33333333, 0.37272727, 0.41212121, 0.45151515, 0.49090909,\n",
       "        0.53030303, 0.56969697, 0.60909091, 0.64848485, 0.68787879,\n",
       "        0.72727273]),\n",
       " <BarContainer object of 10 artists>)"
      ]
     },
     "execution_count": 56,
     "metadata": {},
     "output_type": "execute_result"
    },
    {
     "data": {
      "image/png": "[encoded data removed]",
      "text/plain": [
       "<Figure size 640x480 with 1 Axes>"
      ]
     },
     "metadata": {},
     "output_type": "display_data"
    }
   ],
   "source": [
    "plt.hist(correct)\n",
    "plt.hist(incorrect)"
   ]
  },
  {
   "cell_type": "code",
   "execution_count": 57,
   "id": "ecd13345",
   "metadata": {},
   "outputs": [
    {
     "data": {
      "text/plain": [
       "MannwhitneyuResult(statistic=398.0, pvalue=0.17117200878280736)"
      ]
     },
     "execution_count": 57,
     "metadata": {},
     "output_type": "execute_result"
    }
   ],
   "source": [
    "sp.stats.mannwhitneyu(correct, incorrect)"
   ]
  },
  {
   "cell_type": "code",
   "execution_count": 58,
   "id": "ae48f20f",
   "metadata": {},
   "outputs": [
    {
     "data": {
      "text/plain": [
       "((51, 1), (51,))"
      ]
     },
     "execution_count": 58,
     "metadata": {},
     "output_type": "execute_result"
    }
   ],
   "source": [
    "X = np.array(correct + incorrect).reshape((len(correct + incorrect), 1))\n",
    "y = np.array([1 for _ in correct] + [0 for _ in incorrect])\n",
    "X.shape, y.shape"
   ]
  },
  {
   "cell_type": "code",
   "execution_count": 59,
   "id": "98af60b1",
   "metadata": {
    "scrolled": true
   },
   "outputs": [
    {
     "data": {
      "text/plain": [
       "{'precision': array([0.49019608, 0.5       , 0.51020408, 0.52083333, 0.52173913,\n",
       "        0.51111111, 0.48837209, 0.47619048, 0.48780488, 0.5       ,\n",
       "        0.54054054, 0.54285714, 0.65517241, 0.64285714, 0.62962963,\n",
       "        0.61538462, 0.56521739, 0.61904762, 0.57894737, 0.5       ,\n",
       "        0.46666667, 0.42857143, 0.66666667, 0.5       , 0.75      ,\n",
       "        1.        , 1.        , 1.        , 1.        ]),\n",
       " 'recall': array([1.  , 1.  , 1.  , 1.  , 0.96, 0.92, 0.84, 0.8 , 0.8 , 0.8 , 0.8 ,\n",
       "        0.76, 0.76, 0.72, 0.68, 0.64, 0.52, 0.52, 0.44, 0.32, 0.28, 0.24,\n",
       "        0.24, 0.12, 0.12, 0.12, 0.08, 0.04, 0.  ]),\n",
       " 'max_f1': 0.7037037037037037,\n",
       " 'max_f1_threshold': 0.5087719298245614,\n",
       " 'max_f1_precision': 0.6551724137931034,\n",
       " 'max_f1_recall': 0.76,\n",
       " 'pr_auc': 0.6094884560503516}"
      ]
     },
     "execution_count": 59,
     "metadata": {},
     "output_type": "execute_result"
    }
   ],
   "source": [
    "prdata(y, X)"
   ]
  },
  {
   "cell_type": "code",
   "execution_count": 60,
   "id": "260b9398",
   "metadata": {},
   "outputs": [],
   "source": [
    "precision, recall, thresholds = metrics.precision_recall_curve(y, X)"
   ]
  },
  {
   "cell_type": "code",
   "execution_count": 61,
   "id": "ec7b958e",
   "metadata": {},
   "outputs": [
    {
     "data": {
      "text/plain": [
       "[<matplotlib.lines.Line2D at 0x13d840d60>]"
      ]
     },
     "execution_count": 61,
     "metadata": {},
     "output_type": "execute_result"
    },
    {
     "data": {
      "image/png": "[encoded data removed]",
      "text/plain": [
       "<Figure size 640x480 with 1 Axes>"
      ]
     },
     "metadata": {},
     "output_type": "display_data"
    }
   ],
   "source": [
    "plt.plot(recall, precision)"
   ]
  },
  {
   "cell_type": "code",
   "execution_count": 62,
   "id": "5b071393",
   "metadata": {},
   "outputs": [
    {
     "data": {
      "text/html": [
       "<div>\n",
       "<style scoped>\n",
       "    .dataframe tbody tr th:only-of-type {\n",
       "        vertical-align: middle;\n",
       "    }\n",
       "\n",
       "    .dataframe tbody tr th {\n",
       "        vertical-align: top;\n",
       "    }\n",
       "\n",
       "    .dataframe thead th {\n",
       "        text-align: right;\n",
       "    }\n",
       "</style>\n",
       "<table border=\"1\" class=\"dataframe\">\n",
       "  <thead>\n",
       "    <tr style=\"text-align: right;\">\n",
       "      <th></th>\n",
       "      <th>0</th>\n",
       "      <th>1</th>\n",
       "      <th>2</th>\n",
       "    </tr>\n",
       "  </thead>\n",
       "  <tbody>\n",
       "    <tr>\n",
       "      <th>0</th>\n",
       "      <td>0.490196</td>\n",
       "      <td>1.00</td>\n",
       "      <td>0.333333</td>\n",
       "    </tr>\n",
       "    <tr>\n",
       "      <th>1</th>\n",
       "      <td>0.500000</td>\n",
       "      <td>1.00</td>\n",
       "      <td>0.354839</td>\n",
       "    </tr>\n",
       "    <tr>\n",
       "      <th>2</th>\n",
       "      <td>0.510204</td>\n",
       "      <td>1.00</td>\n",
       "      <td>0.380952</td>\n",
       "    </tr>\n",
       "    <tr>\n",
       "      <th>3</th>\n",
       "      <td>0.520833</td>\n",
       "      <td>1.00</td>\n",
       "      <td>0.400000</td>\n",
       "    </tr>\n",
       "    <tr>\n",
       "      <th>4</th>\n",
       "      <td>0.521739</td>\n",
       "      <td>0.96</td>\n",
       "      <td>0.403509</td>\n",
       "    </tr>\n",
       "    <tr>\n",
       "      <th>5</th>\n",
       "      <td>0.511111</td>\n",
       "      <td>0.92</td>\n",
       "      <td>0.428571</td>\n",
       "    </tr>\n",
       "    <tr>\n",
       "      <th>6</th>\n",
       "      <td>0.488372</td>\n",
       "      <td>0.84</td>\n",
       "      <td>0.437500</td>\n",
       "    </tr>\n",
       "    <tr>\n",
       "      <th>7</th>\n",
       "      <td>0.476190</td>\n",
       "      <td>0.80</td>\n",
       "      <td>0.444444</td>\n",
       "    </tr>\n",
       "    <tr>\n",
       "      <th>8</th>\n",
       "      <td>0.487805</td>\n",
       "      <td>0.80</td>\n",
       "      <td>0.450000</td>\n",
       "    </tr>\n",
       "    <tr>\n",
       "      <th>9</th>\n",
       "      <td>0.500000</td>\n",
       "      <td>0.80</td>\n",
       "      <td>0.466667</td>\n",
       "    </tr>\n",
       "    <tr>\n",
       "      <th>10</th>\n",
       "      <td>0.540541</td>\n",
       "      <td>0.80</td>\n",
       "      <td>0.470588</td>\n",
       "    </tr>\n",
       "    <tr>\n",
       "      <th>11</th>\n",
       "      <td>0.542857</td>\n",
       "      <td>0.76</td>\n",
       "      <td>0.500000</td>\n",
       "    </tr>\n",
       "    <tr>\n",
       "      <th>12</th>\n",
       "      <td>0.655172</td>\n",
       "      <td>0.76</td>\n",
       "      <td>0.508772</td>\n",
       "    </tr>\n",
       "    <tr>\n",
       "      <th>13</th>\n",
       "      <td>0.642857</td>\n",
       "      <td>0.72</td>\n",
       "      <td>0.533333</td>\n",
       "    </tr>\n",
       "    <tr>\n",
       "      <th>14</th>\n",
       "      <td>0.629630</td>\n",
       "      <td>0.68</td>\n",
       "      <td>0.535714</td>\n",
       "    </tr>\n",
       "    <tr>\n",
       "      <th>15</th>\n",
       "      <td>0.615385</td>\n",
       "      <td>0.64</td>\n",
       "      <td>0.545455</td>\n",
       "    </tr>\n",
       "    <tr>\n",
       "      <th>16</th>\n",
       "      <td>0.565217</td>\n",
       "      <td>0.52</td>\n",
       "      <td>0.555556</td>\n",
       "    </tr>\n",
       "    <tr>\n",
       "      <th>17</th>\n",
       "      <td>0.619048</td>\n",
       "      <td>0.52</td>\n",
       "      <td>0.571429</td>\n",
       "    </tr>\n",
       "    <tr>\n",
       "      <th>18</th>\n",
       "      <td>0.578947</td>\n",
       "      <td>0.44</td>\n",
       "      <td>0.583333</td>\n",
       "    </tr>\n",
       "    <tr>\n",
       "      <th>19</th>\n",
       "      <td>0.500000</td>\n",
       "      <td>0.32</td>\n",
       "      <td>0.593750</td>\n",
       "    </tr>\n",
       "    <tr>\n",
       "      <th>20</th>\n",
       "      <td>0.466667</td>\n",
       "      <td>0.28</td>\n",
       "      <td>0.615385</td>\n",
       "    </tr>\n",
       "    <tr>\n",
       "      <th>21</th>\n",
       "      <td>0.428571</td>\n",
       "      <td>0.24</td>\n",
       "      <td>0.625000</td>\n",
       "    </tr>\n",
       "    <tr>\n",
       "      <th>22</th>\n",
       "      <td>0.666667</td>\n",
       "      <td>0.24</td>\n",
       "      <td>0.642857</td>\n",
       "    </tr>\n",
       "    <tr>\n",
       "      <th>23</th>\n",
       "      <td>0.500000</td>\n",
       "      <td>0.12</td>\n",
       "      <td>0.666667</td>\n",
       "    </tr>\n",
       "    <tr>\n",
       "      <th>24</th>\n",
       "      <td>0.750000</td>\n",
       "      <td>0.12</td>\n",
       "      <td>0.727273</td>\n",
       "    </tr>\n",
       "    <tr>\n",
       "      <th>25</th>\n",
       "      <td>1.000000</td>\n",
       "      <td>0.12</td>\n",
       "      <td>0.750000</td>\n",
       "    </tr>\n",
       "    <tr>\n",
       "      <th>26</th>\n",
       "      <td>1.000000</td>\n",
       "      <td>0.08</td>\n",
       "      <td>0.785714</td>\n",
       "    </tr>\n",
       "    <tr>\n",
       "      <th>27</th>\n",
       "      <td>1.000000</td>\n",
       "      <td>0.04</td>\n",
       "      <td>0.800000</td>\n",
       "    </tr>\n",
       "  </tbody>\n",
       "</table>\n",
       "</div>"
      ],
      "text/plain": [
       "           0     1         2\n",
       "0   0.490196  1.00  0.333333\n",
       "1   0.500000  1.00  0.354839\n",
       "2   0.510204  1.00  0.380952\n",
       "3   0.520833  1.00  0.400000\n",
       "4   0.521739  0.96  0.403509\n",
       "5   0.511111  0.92  0.428571\n",
       "6   0.488372  0.84  0.437500\n",
       "7   0.476190  0.80  0.444444\n",
       "8   0.487805  0.80  0.450000\n",
       "9   0.500000  0.80  0.466667\n",
       "10  0.540541  0.80  0.470588\n",
       "11  0.542857  0.76  0.500000\n",
       "12  0.655172  0.76  0.508772\n",
       "13  0.642857  0.72  0.533333\n",
       "14  0.629630  0.68  0.535714\n",
       "15  0.615385  0.64  0.545455\n",
       "16  0.565217  0.52  0.555556\n",
       "17  0.619048  0.52  0.571429\n",
       "18  0.578947  0.44  0.583333\n",
       "19  0.500000  0.32  0.593750\n",
       "20  0.466667  0.28  0.615385\n",
       "21  0.428571  0.24  0.625000\n",
       "22  0.666667  0.24  0.642857\n",
       "23  0.500000  0.12  0.666667\n",
       "24  0.750000  0.12  0.727273\n",
       "25  1.000000  0.12  0.750000\n",
       "26  1.000000  0.08  0.785714\n",
       "27  1.000000  0.04  0.800000"
      ]
     },
     "execution_count": 62,
     "metadata": {},
     "output_type": "execute_result"
    }
   ],
   "source": [
    "pd.DataFrame(list(zip(precision, recall, thresholds)))"
   ]
  },
  {
   "cell_type": "code",
   "execution_count": null,
   "id": "8a2202bb",
   "metadata": {},
   "outputs": [],
   "source": []
  },
  {
   "cell_type": "code",
   "execution_count": null,
   "id": "8979b9cf",
   "metadata": {},
   "outputs": [],
   "source": []
  }
 ],
 "metadata": {
  "kernelspec": {
   "display_name": "Python 3 (ipykernel)",
   "language": "python",
   "name": "python3"
  },
  "language_info": {
   "codemirror_mode": {
    "name": "ipython",
    "version": 3
   },
   "file_extension": ".py",
   "mimetype": "text/x-python",
   "name": "python",
   "nbconvert_exporter": "python",
   "pygments_lexer": "ipython3",
   "version": "3.10.8"
  }
 },
 "nbformat": 4,
 "nbformat_minor": 5
}
